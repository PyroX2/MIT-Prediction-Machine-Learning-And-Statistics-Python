{
 "cells": [
  {
   "cell_type": "markdown",
   "id": "801d3487",
   "metadata": {},
   "source": [
    "### Key concepts:\n",
    "    - Support: metric that measures how frequently an item appears \n",
    "               in the dataset relative to the total number of observations\n",
    "    - Confidence: assesses the likelihood that an item Y is purchased when \n",
    "                  item X is purchased.\n",
    "    - Lift: evaluates how much more likely two items are to be purchased \n",
    "            together compared to being purchased independently"
   ]
  },
  {
   "cell_type": "code",
   "execution_count": 39,
   "id": "09a1234c",
   "metadata": {},
   "outputs": [],
   "source": [
    "import pandas as pd\n",
    "from typing import List"
   ]
  },
  {
   "cell_type": "code",
   "execution_count": 10,
   "id": "ec7a5b92",
   "metadata": {},
   "outputs": [],
   "source": [
    "MINIMUM_SUPPORT_THRESHOLD = 0.5 # How often the item has to appear in all observations\n",
    "MINIMUM_CONFIDENCE_THRESHOLD = 0.7 # Defined as: Support(A | B) / Support(A)"
   ]
  },
  {
   "cell_type": "code",
   "execution_count": 14,
   "id": "e22af282",
   "metadata": {},
   "outputs": [],
   "source": [
    "df = pd.read_csv(\"algos/apriori/dummy_dataset.csv\")"
   ]
  },
  {
   "cell_type": "code",
   "execution_count": 15,
   "id": "fbd4a851",
   "metadata": {},
   "outputs": [
    {
     "data": {
      "text/html": [
       "<div>\n",
       "<style scoped>\n",
       "    .dataframe tbody tr th:only-of-type {\n",
       "        vertical-align: middle;\n",
       "    }\n",
       "\n",
       "    .dataframe tbody tr th {\n",
       "        vertical-align: top;\n",
       "    }\n",
       "\n",
       "    .dataframe thead th {\n",
       "        text-align: right;\n",
       "    }\n",
       "</style>\n",
       "<table border=\"1\" class=\"dataframe\">\n",
       "  <thead>\n",
       "    <tr style=\"text-align: right;\">\n",
       "      <th></th>\n",
       "      <th>Transaction ID</th>\n",
       "      <th>Items</th>\n",
       "    </tr>\n",
       "  </thead>\n",
       "  <tbody>\n",
       "    <tr>\n",
       "      <th>0</th>\n",
       "      <td>T1</td>\n",
       "      <td>Bread;Butter;Milk</td>\n",
       "    </tr>\n",
       "    <tr>\n",
       "      <th>1</th>\n",
       "      <td>T2</td>\n",
       "      <td>Bread;Butter</td>\n",
       "    </tr>\n",
       "    <tr>\n",
       "      <th>2</th>\n",
       "      <td>T3</td>\n",
       "      <td>Bread;Milk</td>\n",
       "    </tr>\n",
       "    <tr>\n",
       "      <th>3</th>\n",
       "      <td>T4</td>\n",
       "      <td>Butter;Milk</td>\n",
       "    </tr>\n",
       "    <tr>\n",
       "      <th>4</th>\n",
       "      <td>T5</td>\n",
       "      <td>Bread;Milk</td>\n",
       "    </tr>\n",
       "  </tbody>\n",
       "</table>\n",
       "</div>"
      ],
      "text/plain": [
       "  Transaction ID              Items\n",
       "0             T1  Bread;Butter;Milk\n",
       "1             T2       Bread;Butter\n",
       "2             T3         Bread;Milk\n",
       "3             T4        Butter;Milk\n",
       "4             T5         Bread;Milk"
      ]
     },
     "execution_count": 15,
     "metadata": {},
     "output_type": "execute_result"
    }
   ],
   "source": [
    "df.head()"
   ]
  },
  {
   "cell_type": "markdown",
   "id": "614815fa",
   "metadata": {},
   "source": [
    "### Dataset preprocessing"
   ]
  },
  {
   "cell_type": "code",
   "execution_count": 33,
   "id": "ecac10ab",
   "metadata": {},
   "outputs": [],
   "source": [
    "unique_items = []\n",
    "for i, row in df.iterrows():\n",
    "    items = row[\"Items\"].split(\";\")\n",
    "    for item in items:\n",
    "        if item not in unique_items:\n",
    "            unique_items.append(item)\n",
    "\n",
    "for item_name in unique_items:\n",
    "    df[item_name] = df[\"Items\"].apply(lambda x: 1 if item_name in x else 0)\n",
    "\n",
    "df = df.drop(\"Items\", axis=1)"
   ]
  },
  {
   "cell_type": "code",
   "execution_count": 34,
   "id": "e9ea05fe",
   "metadata": {},
   "outputs": [
    {
     "data": {
      "text/html": [
       "<div>\n",
       "<style scoped>\n",
       "    .dataframe tbody tr th:only-of-type {\n",
       "        vertical-align: middle;\n",
       "    }\n",
       "\n",
       "    .dataframe tbody tr th {\n",
       "        vertical-align: top;\n",
       "    }\n",
       "\n",
       "    .dataframe thead th {\n",
       "        text-align: right;\n",
       "    }\n",
       "</style>\n",
       "<table border=\"1\" class=\"dataframe\">\n",
       "  <thead>\n",
       "    <tr style=\"text-align: right;\">\n",
       "      <th></th>\n",
       "      <th>Transaction ID</th>\n",
       "      <th>Bread</th>\n",
       "      <th>Butter</th>\n",
       "      <th>Milk</th>\n",
       "    </tr>\n",
       "  </thead>\n",
       "  <tbody>\n",
       "    <tr>\n",
       "      <th>0</th>\n",
       "      <td>T1</td>\n",
       "      <td>1</td>\n",
       "      <td>1</td>\n",
       "      <td>1</td>\n",
       "    </tr>\n",
       "    <tr>\n",
       "      <th>1</th>\n",
       "      <td>T2</td>\n",
       "      <td>1</td>\n",
       "      <td>1</td>\n",
       "      <td>0</td>\n",
       "    </tr>\n",
       "    <tr>\n",
       "      <th>2</th>\n",
       "      <td>T3</td>\n",
       "      <td>1</td>\n",
       "      <td>0</td>\n",
       "      <td>1</td>\n",
       "    </tr>\n",
       "    <tr>\n",
       "      <th>3</th>\n",
       "      <td>T4</td>\n",
       "      <td>0</td>\n",
       "      <td>1</td>\n",
       "      <td>1</td>\n",
       "    </tr>\n",
       "    <tr>\n",
       "      <th>4</th>\n",
       "      <td>T5</td>\n",
       "      <td>1</td>\n",
       "      <td>0</td>\n",
       "      <td>1</td>\n",
       "    </tr>\n",
       "  </tbody>\n",
       "</table>\n",
       "</div>"
      ],
      "text/plain": [
       "  Transaction ID  Bread  Butter  Milk\n",
       "0             T1      1       1     1\n",
       "1             T2      1       1     0\n",
       "2             T3      1       0     1\n",
       "3             T4      0       1     1\n",
       "4             T5      1       0     1"
      ]
     },
     "execution_count": 34,
     "metadata": {},
     "output_type": "execute_result"
    }
   ],
   "source": [
    "df.head()"
   ]
  },
  {
   "cell_type": "markdown",
   "id": "c5960381",
   "metadata": {},
   "source": [
    "### Apriori functions"
   ]
  },
  {
   "cell_type": "code",
   "execution_count": 49,
   "id": "e9ca61f4",
   "metadata": {},
   "outputs": [],
   "source": [
    "def support(df: pd.DataFrame, col_names: List[str]) -> float:\n",
    "    # Check if all columns are present in dataframe\n",
    "    for col_name in col_names:\n",
    "        if col_name not in df.columns:\n",
    "            raise KeyError(f\"Column name: {col_name} is not present in dataframe\")\n",
    "    return df[col_names].all(axis=1).sum() / len(df)\n",
    "\n",
    "\n",
    "# Defined as P_hat(col_name_2 | col_name_1) = Supp(col_name_1 | col_name_2) / Supp(col_name_1)\n",
    "def confidence(df: pd.DataFrame, col_name_1: str, col_name_2: str) -> float:\n",
    "    return support(df, [col_name_1, col_name_2]) / support(df, col_name_1)\n",
    "\n",
    "\n",
    "# Defined as P_hat(col_name_2 | col_name_1) / P_hat(col_name_2) = Supp(col_name_2) / (1 - confidence(col_name_1, col_name_2))\n",
    "def lift(df: pd.DataFrame, col_name_1: str, col_name_2: str) -> float:\n",
    "    return support(col_name_2) / (1 - confidence(col_name_1, col_name_2))"
   ]
  },
  {
   "cell_type": "code",
   "execution_count": 31,
   "id": "66c0e455",
   "metadata": {},
   "outputs": [],
   "source": [
    "def get_combinations(item_list, depth, cur_list=[], cur_index=-1):\n",
    "    if depth == 0:\n",
    "        return [cur_list]\n",
    "    \n",
    "    results = []\n",
    "    for i, item in enumerate(item_list[cur_index+1:]):\n",
    "        if len(item_list[cur_index+i+1:]) < depth:\n",
    "            return results\n",
    "        results += get_combinations(item_list, depth-1, cur_list+[item], cur_index+i+1)\n",
    "\n",
    "    return results"
   ]
  },
  {
   "cell_type": "code",
   "execution_count": 39,
   "id": "4daef207",
   "metadata": {},
   "outputs": [],
   "source": [
    "depth = 1\n",
    "frequent_itemsets = []\n",
    "while True:\n",
    "    level_combinations = get_combinations(unique_items, depth)\n",
    "    if len(level_combinations) == 0:\n",
    "        break\n",
    "    for combination in level_combinations:\n",
    "        if support(df, combination) > MINIMUM_SUPPORT_THRESHOLD and len(combination) > 1:\n",
    "            frequent_itemsets.append(combination)\n",
    "    depth += 1"
   ]
  },
  {
   "cell_type": "code",
   "execution_count": 40,
   "id": "53682352",
   "metadata": {},
   "outputs": [
    {
     "data": {
      "text/plain": [
       "[['Bread', 'Milk']]"
      ]
     },
     "execution_count": 40,
     "metadata": {},
     "output_type": "execute_result"
    }
   ],
   "source": [
    "frequent_itemsets"
   ]
  }
 ],
 "metadata": {
  "kernelspec": {
   "display_name": "venv",
   "language": "python",
   "name": "python3"
  },
  "language_info": {
   "codemirror_mode": {
    "name": "ipython",
    "version": 3
   },
   "file_extension": ".py",
   "mimetype": "text/x-python",
   "name": "python",
   "nbconvert_exporter": "python",
   "pygments_lexer": "ipython3",
   "version": "3.13.5"
  }
 },
 "nbformat": 4,
 "nbformat_minor": 5
}
